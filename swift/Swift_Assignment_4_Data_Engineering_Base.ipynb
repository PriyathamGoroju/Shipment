{
  "cells": [
    {
      "attachments": {},
      "cell_type": "markdown",
      "metadata": {
        "id": "RATwcglYzvI2"
      },
      "source": [
        "\n",
        "\n",
        "# Load data from json files\n",
        "\n",
        "1. Download the data from: https://drive.google.com/file/d/1_LbrEnoYKZQSY-Fby06W_Ep6CzZI7NuO/view?usp=sharing\n",
        "1. Upload this into the workspace (left panel - folder icon)\n",
        "1. Read the json into the environment\n"
      ]
    },
    {
      "attachments": {},
      "cell_type": "markdown",
      "metadata": {
        "id": "T5y5bCfwzy1Q"
      },
      "source": [
        "# Flatten the Data\n",
        "\n",
        "1. Flatten the data per item array as needed\n",
        "2. Properties needed\n",
        "  - Tracking number\n",
        "  - Payment type (Prepaid/COD)\n",
        "  - Pickup Date Time\n",
        "  - Delivery Date Time\n",
        "  - All Out for Delivery (date/times)\n",
        "  - Shipment weight\n",
        "  - Pickup Pincode, City, State\n",
        "  - Drop Pincode, City, State"
      ]
    },
    {
      "attachments": {},
      "cell_type": "markdown",
      "metadata": {
        "id": "TVLHyqIe0DMk"
      },
      "source": [
        "# Transform the data\n",
        "\n",
        "Compute the following inferred field for every shipment:\n",
        "- All date times readable format in IST\n",
        "- Days taken for journey completion (Pickup to Delivery, in number of days)\n",
        "- Number of delivery attempts (Number of times it has been Out for Delivery + Delivered; handle special case where Out For Delivery and Delivered happens on same day)"
      ]
    },
    {
      "attachments": {},
      "cell_type": "markdown",
      "metadata": {
        "id": "_Y4wGIZj0Dr7"
      },
      "source": [
        "# Output as a csv\n",
        "\n",
        "Write out a csv with the following headers\n",
        "\n",
        "  - Tracking number\n",
        "  - Payment type (Prepaid/COD)\n",
        "  - Pickup Date Time in IST\n",
        "  - Delivery Date Time in IST\n",
        "  - Days taken for delivery\n",
        "  - Shipment weight\n",
        "  - Pickup Pincode, City, State\n",
        "  - Drop Pincode, City, State\n",
        "  - Number of delivery attempts needed\n",
        "\n",
        "\n",
        "\n",
        "\n",
        "\n"
      ]
    },
    {
      "attachments": {},
      "cell_type": "markdown",
      "metadata": {
        "id": "_rcqPmBG_LYF"
      },
      "source": [
        "# Output Summary Statistics\n",
        "\n",
        "Output a summary having:\n",
        "- Mean/Median/Mode of days taken for delivery\n",
        "- Mean/Median/Mode of delivery attemps"
      ]
    }
  ],
  "metadata": {
    "colab": {
      "provenance": []
    },
    "kernelspec": {
      "display_name": "Python 3",
      "name": "python3"
    },
    "language_info": {
      "name": "python",
      "version": "3.11.4"
    }
  },
  "nbformat": 4,
  "nbformat_minor": 0
}
